{
 "cells": [
  {
   "cell_type": "markdown",
   "metadata": {},
   "source": [
    "#  <span style=\"text-align=center; color:DarkMagenta; font-family:Georgia; font-size:1.2em;\"> ** Nathalie JOLY KARMAN   _ M1- TP1 Apprentissage Automatique et Numérique_**\n",
    "</span>"
   ]
  },
  {
   "cell_type": "markdown",
   "metadata": {},
   "source": [
    "# <span style=\"color:green; font-family:Georgia; font-size:1.5em;\">1. Introduction"
   ]
  },
  {
   "cell_type": "markdown",
   "metadata": {},
   "source": [
    "<span style=\"color:black; font-family:Georgia; font-size:1.3em;\">Les objectifs de ce premier TP sont :</span>\n",
    "\n",
    "1. <span style=\"color:blue; font-family:Georgia; font-size:1.2em;\">Exploration et Visualisation de données avec la bibliothèque __Pandas__</span>\n",
    "\n",
    "2. <span style=\"color:blue; font-family:Georgia; font-size:1.2em;\">Implémentation d'une régression Linéaire Multiple avec la méthode de __moindres carrés__</span>\n",
    "\n",
    "<span style=\"color:black; font-family:Georgia; font-size:1.3em;\">Regression Lineaire : </span>\n",
    "\n",
    "1. <span style=\"color:blue; font-family:Georgia; font-size:1.2em;\"> Formule : $ y=\\sum_{i=1}^N w_i x_i + b  $  </span>\n",
    "\n",
    "<span style=\"color:black; font-family:Georgia; font-size:1.3em;\">Regression Lineaire Simple : </span>\n",
    "\n",
    "2. <span style=\"color:blue; font-family:Georgia; font-size:1.2em;\"> $ N = 1 $ donc $ y= \\beta_1 x_1 + \\beta_0  $ </span>\n",
    "\n"
   ]
  },
  {
   "cell_type": "markdown",
   "metadata": {},
   "source": [
    "# <span style=\"color:green; font-family:Georgia; font-size:1.5em;\">2. Jeux de données \n",
    "\n",
    "<span style=\"font-family:Georgia; font-size:1.2em;\">House Pricing is dataset describing the sale of individual residential property from 2006 to 2010. It contains a large number of explanatory variables involved in assessing home values. This data set gives you the opportunity to display the skills they had learned within the class.</span>\n",
    "\n",
    "<span style=\"font-family:Georgia; font-size:1.2em;\"> * We will use the _House Pricing_ dataset for a regression project with a <span style=\"color:red\">simple linear regression </span> </span>\n",
    "\n",
    "<span style=\"font-family:Georgia; font-size:1.2em;\"> * We will implement the  <span style=\"color:red\"> Least Squares Method </span> to learn a prediction  model for the _House Pricing_ dataset</span>\n",
    "\n",
    "\n",
    "\n"
   ]
  },
  {
   "cell_type": "markdown",
   "metadata": {},
   "source": [
    "# <span style=\"color:green; font-family:Georgia; font-size:1.5em;\">3. Exploration  et Visualisation de données </span>\n",
    "## <span style=\"color:brown; font-family:Gemesorgia; font-size:1.3em;\">3.1 Objectifs </span>\n",
    "\n",
    "1. <span style=\"color:blue; font-family:Georgia; font-size:1.2em;\">Importation de la base de données avec pandas </span>\n",
    "\n",
    "2. <span style=\"color:blue; font-family:Georgia; font-size:1.2em;\"> Calcul de la correlation entre les variables explicatives et la variable expliquée _SalePrice_  </span>\n",
    "3. <span style=\"color:blue; font-family:Georgia; font-size:1.2em;\">Choisir la variable explicative (exogène) </span>\n"
   ]
  },
  {
   "cell_type": "code",
   "execution_count": null,
   "metadata": {},
   "outputs": [],
   "source": [
    "import pandas as pd\n",
    "import numpy as np\n",
    "import matplotlib.pyplot as plt\n",
    "%matplotlib inline"
   ]
  },
  {
   "cell_type": "markdown",
   "metadata": {},
   "source": [
    "## <span style=\"color:brown; font-family:times; font-size:1.3em;\">3.2 Load the training and testing data </span> "
   ]
  },
  {
   "cell_type": "code",
   "execution_count": null,
   "metadata": {},
   "outputs": [],
   "source": [
    "houses_train = pd.read_csv('train.csv')\n",
    "houses_train.tail()"
   ]
  },
  {
   "cell_type": "code",
   "execution_count": null,
   "metadata": {},
   "outputs": [],
   "source": [
    "houses_test = pd.read_csv('test.csv')\n",
    "houses_test.tail()"
   ]
  },
  {
   "cell_type": "code",
   "execution_count": null,
   "metadata": {
    "scrolled": true
   },
   "outputs": [],
   "source": [
    "houses_train.dtypes\n",
    "#houses_train.describe()\n",
    "houses_train"
   ]
  },
  {
   "cell_type": "markdown",
   "metadata": {},
   "source": [
    "## <span style=\"color:brown; font-family:times; font-size:1.3em;\">3.3 Variables Correlation with SalePrice </span>\n",
    "<span style=\"color:black; font-family:Georgia; font-size:1.3em;\">In this section we will search for the two most correlated variables.</span>\n"
   ]
  },
  {
   "cell_type": "code",
   "execution_count": null,
   "metadata": {},
   "outputs": [],
   "source": [
    "# Todo\n",
    "# calculate the correlation between salePrice and all variables\n",
    "# Keep the two most correlated variables to test them with the simple linear regression\n",
    "\n",
    "correlation2 = houses_train.corr(method ='pearson') \n",
    "\n",
    "print(correlation2.SalePrice.drop(\"SalePrice\").sort_values().tail(2))\n",
    "#print(correlation2.SalePrice)\n",
    "#dtype = float64\n",
    "\n",
    "#on essaie de trouver les deux variables les plus correlees\n"
   ]
  },
  {
   "cell_type": "markdown",
   "metadata": {
    "collapsed": true
   },
   "source": [
    "## <span style=\"color:brown; font-family:times; font-size:1.3em;\">3.4 Plot SalePrice    </span> "
   ]
  },
  {
   "cell_type": "code",
   "execution_count": null,
   "metadata": {},
   "outputs": [],
   "source": [
    "# Todo\n",
    "# plot the SalePrices as function of your 2 variables (most correlated)\n",
    "# add x label and Y label, the values and the scatter\n",
    "\n",
    "plt.scatter(houses_train.OverallQual,houses_train.SalePrice)\n",
    "\n",
    "plt.title(\"distribution of sale price as function of OverallQual\")\n",
    "plt.xlabel(\"x = OverallQual\")\n",
    "plt.ylabel(\"SalePrice in dollar\")\n",
    "plt.show()\n",
    "\n",
    "plt.scatter(houses_train.GrLivArea,houses_train.SalePrice)\n",
    "plt.title(\"distribution of sale price as function of GrLivArea\")\n",
    "plt.xlabel(\"x = GrLivArea\")\n",
    "plt.ylabel(\"SalePrice in dollar\")\n",
    "plt.show()"
   ]
  },
  {
   "cell_type": "markdown",
   "metadata": {},
   "source": [
    "# <span style=\"color:green; font-family:Georgia; font-size:1.5em;\">4. Regression Lineaire Simple (Python) </span>\n"
   ]
  },
  {
   "cell_type": "code",
   "execution_count": null,
   "metadata": {},
   "outputs": [],
   "source": [
    "# Todo \n",
    "\n",
    "# Estimation de \\beta_1\n",
    "\n",
    "# Le principe de la régression linéaire : il consiste à étudier les liens entre une variable \n",
    "#dépendante et des variables indépendantes. La régression permet de juger de la qualité d’explication \n",
    "#de la variable dépendante par les variables indépendantes.\n",
    "\n",
    "# Estimation des parametres\n",
    "\n",
    "#cov(x,y) /var(x)\n",
    "#y = SalePrice\n",
    "#x = OverallQual et GrLivArea ici\n",
    "beta_1_Overall =  houses_train.OverallQual.cov(houses_train.SalePrice) / pd.DataFrame.var(houses_train.OverallQual)\n",
    "\n",
    "beta_1_GrLivArea =  houses_train.GrLivArea.cov(houses_train.SalePrice) / pd.DataFrame.var(houses_train.GrLivArea)\n",
    "\n",
    "print (beta_1_Overall)\n",
    "print (beta_1_GrLivArea)"
   ]
  },
  {
   "cell_type": "code",
   "execution_count": null,
   "metadata": {},
   "outputs": [],
   "source": [
    "#\n",
    "# Estimation de \\beta_0\n",
    "#β0 = moyenne(y) − (beta_1_Overall * moyenne(x))\n",
    "\n",
    "beta_0_Overall = np.mean(houses_train.SalePrice) - (beta_1_Overall * pd.Series.mean(houses_train.OverallQual))\n",
    "print(beta_0_Overall)\n",
    "\n",
    "beta_0_GrLivArea = pd.Series.mean(houses_train.SalePrice) - (beta_1_GrLivArea * pd.Series.mean(houses_train.GrLivArea))\n",
    "#pd.Series.mean = np.mean\n",
    "print(beta_0_GrLivArea)"
   ]
  },
  {
   "cell_type": "code",
   "execution_count": null,
   "metadata": {},
   "outputs": [],
   "source": [
    "# Calculez le coeffecient de détermination R2 \n",
    "\n",
    "#  pg. 37 estimation des paramètres\n",
    "estim_Overall = beta_0_Overall + (beta_1_Overall * houses_train.OverallQual)\n",
    "estim_GrLivArea = beta_0_GrLivArea + (beta_1_GrLivArea * houses_train.GrLivArea)\n",
    "\n",
    "#test ici\n",
    "\n",
    "#formule cm pg 52\n",
    "# SCE / SCT\n",
    "# SCE => somme des carres de moyenne des estimations - moyenne de y (salePrice)\n",
    "# SCT => somme des carres de moyenne des valeurs reelles - moyenne de y (salePrice)\n",
    "\n",
    "SCT = ((houses_train.SalePrice -  np.mean(houses_train.SalePrice)) **2)\n",
    "\n",
    "R2_Overall =  np.sum(((estim_Overall - np.mean(houses_train.SalePrice) )**2)) /np.sum(SCT)\n",
    "R2_GrLivArea =  np.sum(((estim_GrLivArea - np.mean(houses_train.SalePrice) )**2 ))/ np.sum(SCT)\n",
    "\n",
    "print(R2_Overall)\n",
    "print (R2_GrLivArea)\n",
    "\n",
    "# ça devrait donner un nombre a virgule entre 0 et 1... \n",
    "\n"
   ]
  },
  {
   "cell_type": "code",
   "execution_count": null,
   "metadata": {},
   "outputs": [],
   "source": [
    "# prédire les valeurs sur les données de Test\n",
    "\n",
    "# REPONSE \n",
    "# R2_Overall = 0,62\n",
    "# R2_GrLivArea = 0,54\n",
    "# pour la variable X OverallQual, la qualité de la régression linéaire est supérieure \n",
    "# le pouvoir prédictif des deux modèles est moyen (proche de 0,5)\n",
    "\n"
   ]
  },
  {
   "cell_type": "markdown",
   "metadata": {},
   "source": [
    "# <span style=\"color:green; font-family:Georgia; font-size:1.5em;\">5.  Evaluation du  modèle (RMSE)\n",
    "  </span>\n"
   ]
  },
  {
   "cell_type": "markdown",
   "metadata": {},
   "source": [
    "<span style=\"font-family:Georgia; font-size:1.2em;\">La  racine  carrée  de l’erreur quadratique moyenne (RMSE) est une   autre  mesure  des  erreurs  de  prévision. La RMSE est définie par : $ RMSE = \\sqrt{ \\frac{1}{n} \\sum (pred - y)^{2}} $.\n",
    "</span>\n",
    "\n",
    "<span style=\"font-family:Georgia; font-size:1.2em;\">\n",
    "Cette  mesure  pénalise  d'avantage  les  erreurs  importantes \n",
    "</span>"
   ]
  },
  {
   "cell_type": "code",
   "execution_count": null,
   "metadata": {},
   "outputs": [],
   "source": [
    "# Calculez la RMSE de votre modèle sur les données de test, corpus d'apprentissage bien plus petit \n",
    "\n",
    "n = houses_test.shape[0] #tail donne bien des valeurs de 0 à 260\n",
    "# print(n)\n",
    "#\"pred\" est l estimation des valeurs des Variables A. X\n",
    "# y = houses_test.SalePrice\n",
    "\n",
    "# Estimation des parametres sur le corpus de test\n",
    "\n",
    "#cov(x,y) /var(x)\n",
    "#y = SalePrice\n",
    "#x = OverallQual et GrLivArea ici\n",
    "beta_1_Overall =  houses_test.OverallQual.cov(houses_test.SalePrice) / pd.DataFrame.var(houses_test.OverallQual)\n",
    "\n",
    "beta_1_GrLivArea =  houses_test.GrLivArea.cov(houses_test.SalePrice) / pd.DataFrame.var(houses_test.GrLivArea)\n",
    "# Estimation de \\beta_0\n",
    "#β0 = moyenne(y) − (beta_1_Overall * moyenne(x))\n",
    "\n",
    "beta_0_Overall = np.mean(houses_test.SalePrice) - (beta_1_Overall * pd.Series.mean(houses_test.OverallQual))\n",
    "beta_0_GrLivArea = pd.Series.mean(houses_test.SalePrice) - (beta_1_GrLivArea * pd.Series.mean(houses_test.GrLivArea))\n",
    "\n",
    "#  pg. 37 estimation des paramètres\n",
    "estim_Overall = beta_0_Overall + (beta_1_Overall * houses_test.OverallQual)\n",
    "estim_GrLivArea = beta_0_GrLivArea + (beta_1_GrLivArea * houses_test.GrLivArea)\n",
    "\n",
    "RMSE_OverallQual = np.sqrt((1/n) * (np.sum((estim_Overall - houses_test.SalePrice) )**2))\n",
    "RMSE_GrLivArea = np.sqrt((1/n) * (np.sum((estim_GrLivArea - houses_test.SalePrice) )**2))\n",
    "\n",
    "print(\"RMSE sur données de test centrées réduites (RMSE_OverallQual)\",RMSE_OverallQual)\n",
    "\n",
    "print(\"RMSE sur données de test centrées réduites (RMSE_GrLivArea)\", RMSE_GrLivArea)"
   ]
  },
  {
   "cell_type": "markdown",
   "metadata": {},
   "source": [
    "# <span style=\"color:green; font-family:Georgia; font-size:1.5em;\">5.  Pour aller plus loin </span>"
   ]
  },
  {
   "cell_type": "markdown",
   "metadata": {},
   "source": [
    "<span style=\"font-family:Georgia; font-size:1.2em;\">  \n",
    "La standardisation des données consiste à centrer-réduire la matrice de fonctions caractéristiques  $X$ en retranchant pour chaque vecteur $X^{j}, j \\in [1, N]$ sa moyenne et en divisant par son écart-type.\n",
    "</span>\n",
    "\n",
    "\n",
    "<span style=\"font-family:Georgia; font-size:1.2em;\">\n",
    "La formule d’usage est alors : $ ~~~~~~~~~~~  \\forall j \\in [1, N] ~~~~ X^{j} = \\frac{X^{j}_{std} - \\mu_{j}}{ \\sigma^{2}_{j}}$\n",
    "\n",
    "</span>"
   ]
  },
  {
   "cell_type": "code",
   "execution_count": null,
   "metadata": {},
   "outputs": [],
   "source": [
    "# Todo :\n",
    "##  refaire le calcul des paramètres après un prétraitement sur les données d'apprentissage\n",
    "##  1.  Centrer la variable --> soustraire son espérance à chacune de ses valeurs initiales\n",
    "##  2.  Réduire la variable --> diviser toutes ses valeurs par son écart type.\n",
    "## --------------------------\n",
    "##    Soient  μ  l’espérance et σ l’écart-type des valeurs d’une variable aléatoire.\n",
    "##    Centrer-réduire l’une de ses valeurs V revient alors à calculer : \n",
    "##          (V - μ ) / σ \n",
    "## --------------------------\n",
    "##  3. re-éstimer les paramètre de modèle \n",
    "##  4. re-calculer la précision du modèle sur les données de test.\n",
    "\n",
    "# etape 1, centrer la va sur houses_train\n",
    "corpus_OverallQual = houses_train.OverallQual\n",
    "corpus_GrLivArea = houses_train.GrLivArea\n",
    "\n",
    "esperance_OverallQual = np.mean(corpus_OverallQual)\n",
    "#print(esperance_OverallQual)\n",
    "\n",
    "esperance_GrLivArea = np.mean(corpus_GrLivArea)\n",
    "#print(esperance_GrLivArea)\n",
    "\n",
    "esperance_SalePrice = np.mean(houses_train.SalePrice)\n",
    "\n",
    "# etape 2, réduire la variable\n",
    "ecart_type_OverQual  = np.std(corpus_OverallQual)\n",
    "ecart_type_GrLivArea  = np.std(corpus_GrLivArea)\n",
    "ecart_type_SalePrice = np.std(houses_train.SalePrice)\n",
    "\n",
    "variable_reduite_OverQual = corpus_OverallQual / ecart_type_OverQual\n",
    "variable_reduite_GrLivArea = corpus_GrLivArea / ecart_type_GrLivArea\n",
    "variable_reduite_SalePrice = houses_train.SalePrice / ecart_type_SalePrice\n",
    "\n",
    "# corpus après prétraitement d'après  (V - μ ) / σ  avec μ  l’espérance et σ l’écart-type \n",
    "corpus_OverallQual = (houses_train.OverallQual - esperance_OverallQual) / ecart_type_OverQual\n",
    "print (\"donnees après traitement pour OverallQual\",corpus_OverallQual, \"\\n\")\n",
    "\n",
    "corpus_GrLivArea = (houses_train.GrLivArea - esperance_GrLivArea) / ecart_type_GrLivArea\n",
    "print (\"donnees après traitement pour GrLivArea\",corpus_GrLivArea, \"\\n\")\n",
    "\n",
    "corpus_SalePrice = (houses_train.SalePrice - esperance_SalePrice) / ecart_type_SalePrice\n",
    "print (\"donnees après traitement pour SalePrice\",corpus_SalePrice, \"\\n\")\n",
    "\n",
    "######## estimation 1####################\n",
    "\n",
    "# Estimation des parametres\n",
    "\n",
    "#cov(x,y) /var(x)\n",
    "#y = SalePrice\n",
    "#x = OverallQual et GrLivArea ici\n",
    "beta1_Overall =  corpus_OverallQual.cov(corpus_SalePrice) / pd.DataFrame.var(corpus_OverallQual)\n",
    "\n",
    "beta1_GrLivArea =  corpus_GrLivArea.cov(corpus_SalePrice) / pd.DataFrame.var(corpus_GrLivArea)\n",
    "\n",
    "print (\"beta1 Overall\",beta1_Overall)\n",
    "print (\"beta1 GrLivArea\",beta1_GrLivArea)\n",
    "\n",
    "#\n",
    "# Estimation de \\beta_0\n",
    "#β0 = moyenne(y) − (beta_1_Overall * moyenne(x))\n",
    "\n",
    "beta0_Overall = np.mean(corpus_SalePrice) - (beta1_Overall * np.mean(corpus_OverallQual))\n",
    "print(\"beta0 Overall\",beta0_Overall)\n",
    "\n",
    "beta0_GrLivArea = np.mean(corpus_SalePrice) - (beta1_GrLivArea * np.mean(corpus_GrLivArea))\n",
    "print(\"beta0 GrLivArea\",beta0_GrLivArea)\n",
    "\n",
    "###### Pour voir si la régression linéaire est qualitative\n",
    "\n",
    "# Calculez le coeffecient de détermination R2 \n",
    "\n",
    "#  pg. 37 estimation des paramètres\n",
    "centree_reduite_Overall = beta0_Overall + (beta1_Overall * corpus_OverallQual)\n",
    "centree_reduite_GrLivArea = beta0_GrLivArea + (beta1_GrLivArea * corpus_GrLivArea)\n",
    "\n",
    "#test ici\n",
    "\n",
    "#formule cm pg 52\n",
    "# SCE / SCT\n",
    "# SCE => somme des carres de moyenne des estimations - moyenne de y (salePrice)\n",
    "# SCT => somme des carres de moyenne des valeurs reelles - moyenne de y (salePrice)\n",
    "\n",
    "SCT = ((corpus_SalePrice-  np.mean(corpus_SalePrice)) **2)\n",
    "\n",
    "R2_reduit_Overall =  np.sum(((centree_reduite_Overall  - np.mean(corpus_SalePrice) )**2)) /np.sum(SCT)\n",
    "R2__reduit_GrLivArea =  np.sum(((centree_reduite_GrLivArea- np.mean(corpus_SalePrice) )**2 ))/ np.sum(SCT)\n",
    "\n",
    "print(\"\\ncoefficient sur les données centrées réduites (OverallQual) \",R2_reduit_Overall)\n",
    "print (\"coefficient sur les données centrées réduites (GrLivAreaa) \",R2__reduit_GrLivArea, \"\\n\\n rien n'a changé à ce niveau là!!\")\n",
    "\n",
    "# ça devrait donner un nombre a virgule entre 0 et 1... \n",
    "\n",
    "\n",
    "#################### RMSE sur corpus de test centré réduit###############\n",
    "corpus_test = houses_test\n",
    "n = corpus_test.shape[0] #tail donne bien des valeurs de 0 à 260\n",
    "\n",
    "# etape 1, centrer la va sur houses_train\n",
    "corpus_test_OverallQual = corpus_test.OverallQual\n",
    "corpus_test_GrLivArea = corpus_test.GrLivArea\n",
    "\n",
    "#je garde les mêmes noms de variables...\n",
    "esperance_OverallQual = np.mean(corpus_test_OverallQual)\n",
    "#print(esperance_OverallQual)\n",
    "esperance_GrLivArea = np.mean(corpus_test_GrLivArea)\n",
    "#print(esperance_GrLivArea)\n",
    "esperance_SalePrice = np.mean(corpus_test.SalePrice)\n",
    "\n",
    "# etape 2, réduire la variable\n",
    "ecart_type_OverQual  = np.std(corpus_test_OverallQual)\n",
    "ecart_type_GrLivArea  = np.std(corpus_test_GrLivArea)\n",
    "ecart_type_SalePrice = np.std(corpus_test.SalePrice)\n",
    "\n",
    "variable_reduite_OverQual2 = corpus_test_OverallQual / ecart_type_OverQual\n",
    "variable_reduite_GrLivArea2 = corpus_test_GrLivArea / ecart_type_GrLivArea\n",
    "variable_reduite_SalePrice2 = corpus_test.SalePrice / ecart_type_SalePrice\n",
    "\n",
    "# corpus après prétraitement d'après  (V - μ ) / σ  avec μ  l’espérance et σ l’écart-type => corpus pour calcul RMSE\n",
    "corpus_OverallQual2 = (corpus_test_OverallQual - esperance_OverallQual) / ecart_type_OverQual\n",
    "print (\"donnees après traitement pour OverallQual\",corpus_test_OverallQual, \"\\n\")\n",
    "\n",
    "corpus_GrLivArea2 = (corpus_test_GrLivArea - esperance_GrLivArea) / ecart_type_GrLivArea\n",
    "print (\"donnees après traitement pour GrLivArea\",corpus_test_GrLivArea, \"\\n\")\n",
    "\n",
    "corpus_SalePrice2 = (corpus_test.SalePrice - esperance_SalePrice) / ecart_type_SalePrice\n",
    "print (\"donnees après traitement pour SalePrice\",corpus_SalePrice, \"\\n\")\n",
    "\n",
    "######## estimation 2 basé sur algo RMSE (plus violent sur les erreurs)\n",
    "\n",
    "# Estimation des parametres sur le corpus de test centré reduit\n",
    "\n",
    "beta1_Overall =  corpus_OverallQual2.cov(corpus_SalePrice2) / pd.DataFrame.var(corpus_OverallQual2)\n",
    "\n",
    "beta1_GrLivArea =  corpus_GrLivArea2.cov(corpus_SalePrice2) / pd.DataFrame.var(corpus_GrLivArea2)\n",
    "# Estimation de \\beta_0\n",
    "#β0 = moyenne(y) − (beta_1_Overall * moyenne(x))\n",
    "\n",
    "beta0_Overall = np.mean(corpus_SalePrice2) - (beta1_Overall * pd.Series.mean(corpus_OverallQual2))\n",
    "beta0_GrLivArea = pd.Series.mean(corpus_SalePrice2) - (beta1_GrLivArea * pd.Series.mean(corpus_GrLivArea2))\n",
    "\n",
    "#  pg. 37 estimation des paramètres\n",
    "estim_Overall2 = beta0_Overall + (beta1_Overall * corpus_OverallQual2)\n",
    "estim_GrLivArea2 = beta0_GrLivArea + (beta1_GrLivArea * corpus_GrLivArea2)\n",
    "\n",
    "RMSE_OverallQual2 = np.sqrt((1/n) * (np.sum((estim_Overall2 - corpus_SalePrice2) )**2))\n",
    "print(\"RMSE sur données de test centrées réduites (RMSE_OverallQual)\",RMSE_OverallQual2)\n",
    "\n",
    "RMSE_GrLivArea2 = np.sqrt((1/n) * (np.sum((estim_GrLivArea2 - corpus_SalePrice2) )**2))\n",
    "print(\"RMSE sur données de test centrées réduites (RMSE_GrLivArea)\", RMSE_GrLivArea2)"
   ]
  },
  {
   "cell_type": "code",
   "execution_count": null,
   "metadata": {},
   "outputs": [],
   "source": [
    "#Après avoir centralisé les données des variables étudiées (nos X : OverallQual et GrLivArea ; y : SalePrice), \n",
    "# on voit que la formule des carrés (R2) qui évalue l'éfficacité de la régression linéaire ne change pas du tout\n",
    "# sur le corpus d'apprentissage \n",
    "# Quand on compare sur le corpus de test, après l'avoir centré réduit, on obtient une mesure qui est très différente \n",
    "# si l'on compare avec la mesure RMSE obtenue sur le corpus de test sans traitement.\n",
    "# Cela implique que le corpus de test a plus de probabilité d'avoir des erreurs (trop peu de données) \n",
    "# si comparé au corpus d'apprentissage. "
   ]
  },
  {
   "cell_type": "markdown",
   "metadata": {
    "collapsed": true
   },
   "source": [
    "# <span style=\"color:green; font-family:Georgia; font-size:1.5em;\">END</span>"
   ]
  },
  {
   "cell_type": "code",
   "execution_count": null,
   "metadata": {},
   "outputs": [],
   "source": []
  }
 ],
 "metadata": {
  "kernelspec": {
   "display_name": "Python 3",
   "language": "python",
   "name": "python3"
  },
  "language_info": {
   "codemirror_mode": {
    "name": "ipython",
    "version": 3
   },
   "file_extension": ".py",
   "mimetype": "text/x-python",
   "name": "python",
   "nbconvert_exporter": "python",
   "pygments_lexer": "ipython3",
   "version": "3.8.5"
  }
 },
 "nbformat": 4,
 "nbformat_minor": 1
}
